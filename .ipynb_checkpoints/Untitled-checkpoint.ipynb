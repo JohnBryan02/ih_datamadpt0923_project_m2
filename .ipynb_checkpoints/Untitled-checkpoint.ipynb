{
 "cells": [
  {
   "cell_type": "code",
   "execution_count": 1,
   "id": "09ebcb53",
   "metadata": {},
   "outputs": [],
   "source": [
    "import pandas as pd"
   ]
  },
  {
   "cell_type": "code",
   "execution_count": 2,
   "id": "f49cd521",
   "metadata": {},
   "outputs": [],
   "source": [
    "Beer_Name_Fuzzy_Match_List = pd.read_csv('data/Beer Name Fuzzy Match List.csv')"
   ]
  },
  {
   "cell_type": "code",
   "execution_count": null,
   "id": "5547b1b6",
   "metadata": {},
   "outputs": [],
   "source": [
    "beer_profile_and_ratings"
   ]
  },
  {
   "cell_type": "code",
   "execution_count": null,
   "id": "7447e1dc",
   "metadata": {},
   "outputs": [],
   "source": [
    "Brewery_Name_Fuzzy_Match_List"
   ]
  }
 ],
 "metadata": {
  "kernelspec": {
   "display_name": "Python (m2_env)",
   "language": "python",
   "name": "m2_env"
  },
  "language_info": {
   "codemirror_mode": {
    "name": "ipython",
    "version": 3
   },
   "file_extension": ".py",
   "mimetype": "text/x-python",
   "name": "python",
   "nbconvert_exporter": "python",
   "pygments_lexer": "ipython3",
   "version": "3.9.18"
  }
 },
 "nbformat": 4,
 "nbformat_minor": 5
}
